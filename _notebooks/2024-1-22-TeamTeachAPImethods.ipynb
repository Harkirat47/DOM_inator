{
 "cells": [
  {
   "cell_type": "markdown",
   "metadata": {},
   "source": [
    "# API Methods and Model Updates: "
   ]
  },
  {
   "cell_type": "markdown",
   "metadata": {},
   "source": [
    "## What will we be doing today?\n",
    "- Using API methods to connect front and backend to make the Login Page secure and working\n"
   ]
  },
  {
   "cell_type": "markdown",
   "metadata": {},
   "source": [
    "### Frontend API with GET Methods\n",
    "- The GET Method is used to gather information from the API endpoint, specifically retrieving data from the url set here\n",
    "- First you have to use the fetch function (HTTP GET Request) to make than request to the api url\n",
    "\n",
    "Here is an example"
   ]
  },
  {
   "cell_type": "code",
   "execution_count": null,
   "metadata": {
    "vscode": {
     "languageId": "javascript"
    }
   },
   "outputs": [],
   "source": [
    "// Make an HTTP GET request to the API\n",
    "fetch(apiUrl)\n",
    "    .then(response => response.json()) // Parse the JSON response\n",
    "    .then(data => {\n",
    "const organizedData = {\n",
    "    Login_api: {\n",
    "        url_prefix: '/api/Login',\n",
    "        LoginAPI: {\n",
    "            get: {\n",
    "                description: 'Retrieve all logins from the database',\n",
    "                url: '/api/Login',\n",
    "                method: 'GET',\n",
    "                data: data, // Include the retrieved data here\n",
    "                mode: \"cors\""
   ]
  },
  {
   "cell_type": "markdown",
   "metadata": {},
   "source": [
    "## NOTES:\n",
    "- This is a dummy program, basically a template of how a login page may work\n",
    "- None of these endpoints are active right now"
   ]
  },
  {
   "cell_type": "markdown",
   "metadata": {},
   "source": [
    "### Defining API endpoints\n",
    " - This is where the data is pulled from (see urls in the method defintions)\n",
    " - Every method should be using the same endpoint/url or will just get messed up"
   ]
  },
  {
   "cell_type": "markdown",
   "metadata": {},
   "source": [
    "Lets see all of these steps in action"
   ]
  },
  {
   "cell_type": "code",
   "execution_count": null,
   "metadata": {
    "vscode": {
     "languageId": "javascript"
    }
   },
   "outputs": [],
   "source": [
    "const apiUrl = 'http://localhost:8911/api/Login/'; // Replace with the actual API URL\n",
    "// Make an HTTP GET request to the API\n",
    "fetch(apiUrl)\n",
    "    .then(response => response.json()) // Parse the JSON response\n",
    "    .then(data => {\n",
    "        // Organize the data into a dictionary\n",
    "        const organizedData = {\n",
    "            Login_api: {\n",
    "                url_prefix: '/api/Login',\n",
    "                LoginAPI: {\n",
    "                    get: {\n",
    "                        description: 'Retrieve all logins from the database',\n",
    "                        url: '/api/Login',\n",
    "                        method: 'GET',\n",
    "                        data: data, // Include the retrieved data here\n",
    "                        mode: \"cors\"\n",
    "                    },\n",
    "                },\n",
    "            },\n",
    "            LoginListAPI: {\n",
    "                LoginListAPI: {\n",
    "                    get: {\n",
    "                        description: 'Retrieve all logins from the database',\n",
    "                        url: '/api/Login',\n",
    "                        method: 'GET',\n",
    "                        data: data, // Include the retrieved data here\n",
    "                        mode: \"cors\"\n",
    "                    },\n",
    "                },\n",
    "            },\n",
    "        };\n",
    "        // Now, you have the organized data in the \"organizedData\" dictionary\n",
    "        Data = organizedData.Login_api.LoginAPI.get.data; //data[id].Login_name, image whatever u may need,\n",
    "    });\n"
   ]
  },
  {
   "cell_type": "markdown",
   "metadata": {},
   "source": [
    "## Addtional Notes:\n",
    "- There are two APIs used here: One for retrieving the login list and logins.\n",
    "- Also the last line of code basically stores that retrieved data into the \"organizedData\" dictionary."
   ]
  }
 ],
 "metadata": {
  "language_info": {
   "name": "python"
  }
 },
 "nbformat": 4,
 "nbformat_minor": 2
}
