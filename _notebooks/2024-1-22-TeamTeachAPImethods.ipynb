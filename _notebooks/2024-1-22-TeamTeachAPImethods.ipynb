{
 "cells": [
  {
   "cell_type": "markdown",
   "metadata": {},
   "source": [
    "# API Methods and Model Updates: "
   ]
  },
  {
   "cell_type": "markdown",
   "metadata": {},
   "source": [
    "## What will we be doing today?\n",
    "- Investigate the existance of undecidable problems in computer science\n"
   ]
  },
  {
   "cell_type": "markdown",
   "metadata": {},
   "source": [
    "#### A decidable problem is a decision problem for wich an algorithm can be writen to produce a correct output for all inputs(eg.\"Is the number even?\")\n",
    "\n"
   ]
  },
  {
   "cell_type": "markdown",
   "metadata": {},
   "source": [
    "#### An undecidable problem is a problem that has no algorithim that can provide a yes or no answer, An undecidable problem may have an algorithim that works, but it can never fully work, and there are always instances in wich that is the case to make a problem undecidable."
   ]
  },
  {
   "cell_type": "code",
   "execution_count": null,
   "metadata": {},
   "outputs": [],
   "source": [
    "### Example\n",
    "\n",
    "from flask import Blueprint, jsonify  # jsonify creates an endpoint response object\n",
    "from flask_restful import Api, Resource # used for REST API building\n",
    "import requests  # used for testing \n",
    "import random\n",
    "\n",
    "from model.jokes import *\n",
    "\n",
    "joke_api = Blueprint('joke_api', __name__,\n",
    "                   url_prefix='/api/jokes')\n",
    "\n",
    "# API generator https://flask-restful.readthedocs.io/en/latest/api.html#id1\n",
    "api = Api(joke_api)\n",
    "\n",
    "class JokesAPI:\n",
    "    # not implemented\n",
    "    class _Create(Resource):\n",
    "        def post(self, joke):\n",
    "            pass\n",
    "            \n",
    "    # getJokes()\n",
    "    class _Read(Resource):\n",
    "        def get(self):\n",
    "            return jsonify(getJokes())\n",
    "\n",
    "    # getJoke(id)\n",
    "    class _ReadID(Resource):\n",
    "        def get(self, id):\n",
    "            return jsonify(getJoke(id))\n",
    "\n",
    "    # getRandomJoke()\n",
    "    class _ReadRandom(Resource):\n",
    "        def get(self):\n",
    "            return jsonify(getRandomJoke())\n",
    "    \n",
    "    # getRandomJoke()\n",
    "    class _ReadCount(Resource):\n",
    "        def get(self):\n",
    "            count = countJokes()\n",
    "            countMsg = {'count': count}\n",
    "            return jsonify(countMsg)\n",
    "\n",
    "    # put method: addJokeHaHa\n",
    "    class _UpdateLike(Resource):\n",
    "        def put(self, id):\n",
    "            addJokeHaHa(id)\n",
    "            return jsonify(getJoke(id))\n",
    "\n",
    "    # put method: addJokeBooHoo\n",
    "    class _UpdateJeer(Resource):\n",
    "        def put(self, id):\n",
    "            addJokeBooHoo(id)\n",
    "            return jsonify(getJoke(id))\n",
    "\n",
    "    # building RESTapi resources/interfaces, these routes are added to Web Server\n",
    "    api.add_resource(_Create, '/create/<string:joke>')\n",
    "    api.add_resource(_Read, '/')\n",
    "    api.add_resource(_ReadID, '/<int:id>')\n",
    "    api.add_resource(_ReadRandom, '/random')\n",
    "    api.add_resource(_ReadCount, '/count')\n",
    "    api.add_resource(_UpdateLike, '/like/<int:id>')\n",
    "    api.add_resource(_UpdateJeer, '/jeer/<int:id>')\n",
    "    \n",
    "if __name__ == \"__main__\": \n",
    "    # server = \"http://127.0.0.1:5000\" # run local\n",
    "    server = 'https://flask.nighthawkcodingsociety.com' # run from web\n",
    "    url = server + \"/api/jokes\"\n",
    "    responses = []  # responses list\n",
    "\n",
    "    # get count of jokes on server\n",
    "    count_response = requests.get(url+\"/count\")\n",
    "    count_json = count_response.json()\n",
    "    count = count_json['count']\n",
    "\n",
    "    # update likes/dislikes test sequence\n",
    "    num = str(random.randint(0, count-1)) # test a random record\n",
    "    responses.append(\n",
    "        requests.get(url+\"/\"+num)  # read joke by id\n",
    "        ) \n",
    "    responses.append(\n",
    "        requests.put(url+\"/like/\"+num) # add to like count\n",
    "        ) \n",
    "    responses.append(\n",
    "        requests.put(url+\"/jeer/\"+num) # add to jeer count\n",
    "        ) \n",
    "\n",
    "    # obtain a random joke\n",
    "    responses.append(\n",
    "        requests.get(url+\"/random\")  # read a random joke\n",
    "        ) \n",
    "\n",
    "    # cycle through responses\n",
    "    for response in responses:\n",
    "        print(response)\n",
    "        try:\n",
    "            print(response.json())\n",
    "        except:\n",
    "            print(\"unknown error\")"
   ]
  }
 ],
 "metadata": {
  "language_info": {
   "name": "python"
  }
 },
 "nbformat": 4,
 "nbformat_minor": 2
}
