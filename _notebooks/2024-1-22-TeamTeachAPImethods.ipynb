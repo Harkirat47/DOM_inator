{
 "cells": [
  {
   "cell_type": "markdown",
   "metadata": {},
   "source": [
    "# API Methods and Model Updates: "
   ]
  },
  {
   "cell_type": "markdown",
   "metadata": {},
   "source": [
    "## What will we be doing today?\n",
    "- Using API methods to connect front and and backend to make the Login Page secure and working\n"
   ]
  },
  {
   "cell_type": "markdown",
   "metadata": {},
   "source": [
    "#### Frontend and Backend\n",
    "- Explain JWT,secuirty and get methods(frontend)"
   ]
  },
  {
   "cell_type": "code",
   "execution_count": null,
   "metadata": {},
   "outputs": [],
   "source": [
    "'Frontend stuff'\n",
    "const apiUrl = 'http://localhost:8911/api/Login/'; // Replace with the actual API URL\n",
    "        // Make an HTTP GET request to the API\n",
    "        fetch(apiUrl)\n",
    "            .then(response => response.json()) // Parse the JSON response\n",
    "            .then(data => {\n",
    "                // Organize the data into a dictionary\n",
    "                const organizedData = {\n",
    "                    Login_api: {\n",
    "                        url_prefix: '/api/Login',\n",
    "                        LoginAPI: {\n",
    "                            get: {\n",
    "                                description: 'Retrieve all logins from the database',\n",
    "                                url: '/api/Login',\n",
    "                                method: 'GET',\n",
    "                                data: data, // Include the retrieved data here\n",
    "                                mode: \"cors\"\n",
    "                            },\n",
    "                        },\n",
    "                    },\n",
    "                    LoginListAPI: {\n",
    "                        LoginListAPI: {\n",
    "                            get: {\n",
    "                                description: 'Retrieve all logins from the database',\n",
    "                                url: '/api/Login',\n",
    "                                method: 'GET',\n",
    "                                data: data, // Include the retrieved data here\n",
    "                                mode: \"cors\"\n",
    "                            },\n",
    "                        },\n",
    "                    },\n",
    "                };\n",
    "                // Now, you have the organized data in the \"organizedData\" dictionary\n",
    "                Data = organizedData.Login_api.LoginAPI.get.data; //data[id].Login_name, image whatever u may need,\n"
   ]
  }
 ],
 "metadata": {
  "language_info": {
   "name": "python"
  }
 },
 "nbformat": 4,
 "nbformat_minor": 2
}
